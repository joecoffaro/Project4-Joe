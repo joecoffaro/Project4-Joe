{
 "cells": [
  {
   "cell_type": "markdown",
   "metadata": {},
   "source": [
    "# Neural Network Model"
   ]
  },
  {
   "cell_type": "markdown",
   "metadata": {},
   "source": [
    "## Step 1: Reading cleaned_cancer_data.csv from Resources folder to create a Pandas DataFrame."
   ]
  },
  {
   "cell_type": "code",
   "execution_count": 1,
   "metadata": {},
   "outputs": [
    {
     "data": {
      "text/html": [
       "<div>\n",
       "<style scoped>\n",
       "    .dataframe tbody tr th:only-of-type {\n",
       "        vertical-align: middle;\n",
       "    }\n",
       "\n",
       "    .dataframe tbody tr th {\n",
       "        vertical-align: top;\n",
       "    }\n",
       "\n",
       "    .dataframe thead th {\n",
       "        text-align: right;\n",
       "    }\n",
       "</style>\n",
       "<table border=\"1\" class=\"dataframe\">\n",
       "  <thead>\n",
       "    <tr style=\"text-align: right;\">\n",
       "      <th></th>\n",
       "      <th>Unnamed: 0.1</th>\n",
       "      <th>Unnamed: 0</th>\n",
       "      <th>Diagnosis Age</th>\n",
       "      <th>Fraction Genome Altered</th>\n",
       "      <th>Mutation Count</th>\n",
       "      <th>Overall Survival Status</th>\n",
       "      <th>TMB (nonsynonymous)</th>\n",
       "      <th>Cancer Type Detailed</th>\n",
       "      <th>Prior Cancer Diagnosis Occurence</th>\n",
       "      <th>Smoking History</th>\n",
       "      <th>Sex</th>\n",
       "      <th>Person Cigarette Smoking History Pack Year Value</th>\n",
       "    </tr>\n",
       "  </thead>\n",
       "  <tbody>\n",
       "    <tr>\n",
       "      <th>0</th>\n",
       "      <td>159</td>\n",
       "      <td>159</td>\n",
       "      <td>70</td>\n",
       "      <td>0.4565</td>\n",
       "      <td>189</td>\n",
       "      <td>0:LIVING</td>\n",
       "      <td>6.300000</td>\n",
       "      <td>1</td>\n",
       "      <td>0</td>\n",
       "      <td>1</td>\n",
       "      <td>0</td>\n",
       "      <td>38.0</td>\n",
       "    </tr>\n",
       "    <tr>\n",
       "      <th>1</th>\n",
       "      <td>160</td>\n",
       "      <td>160</td>\n",
       "      <td>67</td>\n",
       "      <td>0.2221</td>\n",
       "      <td>288</td>\n",
       "      <td>0:LIVING</td>\n",
       "      <td>9.633333</td>\n",
       "      <td>1</td>\n",
       "      <td>0</td>\n",
       "      <td>1</td>\n",
       "      <td>0</td>\n",
       "      <td>52.0</td>\n",
       "    </tr>\n",
       "    <tr>\n",
       "      <th>2</th>\n",
       "      <td>161</td>\n",
       "      <td>161</td>\n",
       "      <td>79</td>\n",
       "      <td>0.2362</td>\n",
       "      <td>296</td>\n",
       "      <td>1:DECEASED</td>\n",
       "      <td>9.833333</td>\n",
       "      <td>1</td>\n",
       "      <td>0</td>\n",
       "      <td>1</td>\n",
       "      <td>1</td>\n",
       "      <td>47.0</td>\n",
       "    </tr>\n",
       "    <tr>\n",
       "      <th>3</th>\n",
       "      <td>162</td>\n",
       "      <td>162</td>\n",
       "      <td>68</td>\n",
       "      <td>0.0854</td>\n",
       "      <td>1625</td>\n",
       "      <td>0:LIVING</td>\n",
       "      <td>54.233333</td>\n",
       "      <td>1</td>\n",
       "      <td>1</td>\n",
       "      <td>1</td>\n",
       "      <td>0</td>\n",
       "      <td>62.0</td>\n",
       "    </tr>\n",
       "    <tr>\n",
       "      <th>4</th>\n",
       "      <td>163</td>\n",
       "      <td>163</td>\n",
       "      <td>66</td>\n",
       "      <td>0.0661</td>\n",
       "      <td>122</td>\n",
       "      <td>0:LIVING</td>\n",
       "      <td>4.066667</td>\n",
       "      <td>1</td>\n",
       "      <td>1</td>\n",
       "      <td>1</td>\n",
       "      <td>0</td>\n",
       "      <td>20.0</td>\n",
       "    </tr>\n",
       "  </tbody>\n",
       "</table>\n",
       "</div>"
      ],
      "text/plain": [
       "   Unnamed: 0.1  Unnamed: 0  Diagnosis Age  Fraction Genome Altered  \\\n",
       "0           159         159             70                   0.4565   \n",
       "1           160         160             67                   0.2221   \n",
       "2           161         161             79                   0.2362   \n",
       "3           162         162             68                   0.0854   \n",
       "4           163         163             66                   0.0661   \n",
       "\n",
       "   Mutation Count Overall Survival Status  TMB (nonsynonymous)  \\\n",
       "0             189                0:LIVING             6.300000   \n",
       "1             288                0:LIVING             9.633333   \n",
       "2             296              1:DECEASED             9.833333   \n",
       "3            1625                0:LIVING            54.233333   \n",
       "4             122                0:LIVING             4.066667   \n",
       "\n",
       "   Cancer Type Detailed  Prior Cancer Diagnosis Occurence  Smoking History  \\\n",
       "0                     1                                 0                1   \n",
       "1                     1                                 0                1   \n",
       "2                     1                                 0                1   \n",
       "3                     1                                 1                1   \n",
       "4                     1                                 1                1   \n",
       "\n",
       "   Sex  Person Cigarette Smoking History Pack Year Value  \n",
       "0    0                                              38.0  \n",
       "1    0                                              52.0  \n",
       "2    1                                              47.0  \n",
       "3    0                                              62.0  \n",
       "4    0                                              20.0  "
      ]
     },
     "execution_count": 1,
     "metadata": {},
     "output_type": "execute_result"
    }
   ],
   "source": [
    "# Import our dependencies\n",
    "from sklearn.model_selection import train_test_split\n",
    "from sklearn.preprocessing import StandardScaler\n",
    "import pandas as pd\n",
    "import tensorflow as tf\n",
    "import matplotlib.pyplot as plt\n",
    "from pathlib import Path\n",
    "\n",
    "#  Import and read the charity_data.csv.\n",
    "file_path = Path(\"Resources/cleaned_cancer_data.csv\")\n",
    "data_df = pd.read_csv(file_path)\n",
    "data_df.head()"
   ]
  },
  {
   "cell_type": "code",
   "execution_count": 2,
   "metadata": {},
   "outputs": [
    {
     "data": {
      "text/html": [
       "<div>\n",
       "<style scoped>\n",
       "    .dataframe tbody tr th:only-of-type {\n",
       "        vertical-align: middle;\n",
       "    }\n",
       "\n",
       "    .dataframe tbody tr th {\n",
       "        vertical-align: top;\n",
       "    }\n",
       "\n",
       "    .dataframe thead th {\n",
       "        text-align: right;\n",
       "    }\n",
       "</style>\n",
       "<table border=\"1\" class=\"dataframe\">\n",
       "  <thead>\n",
       "    <tr style=\"text-align: right;\">\n",
       "      <th></th>\n",
       "      <th>Diagnosis Age</th>\n",
       "      <th>Fraction Genome Altered</th>\n",
       "      <th>Mutation Count</th>\n",
       "      <th>Overall Survival Status</th>\n",
       "      <th>TMB (nonsynonymous)</th>\n",
       "      <th>Cancer Type Detailed</th>\n",
       "      <th>Prior Cancer Diagnosis Occurence</th>\n",
       "      <th>Smoking History</th>\n",
       "      <th>Sex</th>\n",
       "      <th>Person Cigarette Smoking History Pack Year Value</th>\n",
       "    </tr>\n",
       "  </thead>\n",
       "  <tbody>\n",
       "    <tr>\n",
       "      <th>0</th>\n",
       "      <td>70</td>\n",
       "      <td>0.4565</td>\n",
       "      <td>189</td>\n",
       "      <td>0:LIVING</td>\n",
       "      <td>6.300000</td>\n",
       "      <td>1</td>\n",
       "      <td>0</td>\n",
       "      <td>1</td>\n",
       "      <td>0</td>\n",
       "      <td>38.0</td>\n",
       "    </tr>\n",
       "    <tr>\n",
       "      <th>1</th>\n",
       "      <td>67</td>\n",
       "      <td>0.2221</td>\n",
       "      <td>288</td>\n",
       "      <td>0:LIVING</td>\n",
       "      <td>9.633333</td>\n",
       "      <td>1</td>\n",
       "      <td>0</td>\n",
       "      <td>1</td>\n",
       "      <td>0</td>\n",
       "      <td>52.0</td>\n",
       "    </tr>\n",
       "    <tr>\n",
       "      <th>2</th>\n",
       "      <td>79</td>\n",
       "      <td>0.2362</td>\n",
       "      <td>296</td>\n",
       "      <td>1:DECEASED</td>\n",
       "      <td>9.833333</td>\n",
       "      <td>1</td>\n",
       "      <td>0</td>\n",
       "      <td>1</td>\n",
       "      <td>1</td>\n",
       "      <td>47.0</td>\n",
       "    </tr>\n",
       "    <tr>\n",
       "      <th>3</th>\n",
       "      <td>68</td>\n",
       "      <td>0.0854</td>\n",
       "      <td>1625</td>\n",
       "      <td>0:LIVING</td>\n",
       "      <td>54.233333</td>\n",
       "      <td>1</td>\n",
       "      <td>1</td>\n",
       "      <td>1</td>\n",
       "      <td>0</td>\n",
       "      <td>62.0</td>\n",
       "    </tr>\n",
       "    <tr>\n",
       "      <th>4</th>\n",
       "      <td>66</td>\n",
       "      <td>0.0661</td>\n",
       "      <td>122</td>\n",
       "      <td>0:LIVING</td>\n",
       "      <td>4.066667</td>\n",
       "      <td>1</td>\n",
       "      <td>1</td>\n",
       "      <td>1</td>\n",
       "      <td>0</td>\n",
       "      <td>20.0</td>\n",
       "    </tr>\n",
       "    <tr>\n",
       "      <th>...</th>\n",
       "      <td>...</td>\n",
       "      <td>...</td>\n",
       "      <td>...</td>\n",
       "      <td>...</td>\n",
       "      <td>...</td>\n",
       "      <td>...</td>\n",
       "      <td>...</td>\n",
       "      <td>...</td>\n",
       "      <td>...</td>\n",
       "      <td>...</td>\n",
       "    </tr>\n",
       "    <tr>\n",
       "      <th>977</th>\n",
       "      <td>75</td>\n",
       "      <td>0.2382</td>\n",
       "      <td>211</td>\n",
       "      <td>1:DECEASED</td>\n",
       "      <td>7.033333</td>\n",
       "      <td>0</td>\n",
       "      <td>0</td>\n",
       "      <td>1</td>\n",
       "      <td>1</td>\n",
       "      <td>1.0</td>\n",
       "    </tr>\n",
       "    <tr>\n",
       "      <th>978</th>\n",
       "      <td>63</td>\n",
       "      <td>0.5420</td>\n",
       "      <td>101</td>\n",
       "      <td>1:DECEASED</td>\n",
       "      <td>3.400000</td>\n",
       "      <td>0</td>\n",
       "      <td>1</td>\n",
       "      <td>1</td>\n",
       "      <td>0</td>\n",
       "      <td>2.5</td>\n",
       "    </tr>\n",
       "    <tr>\n",
       "      <th>979</th>\n",
       "      <td>71</td>\n",
       "      <td>0.4405</td>\n",
       "      <td>216</td>\n",
       "      <td>1:DECEASED</td>\n",
       "      <td>7.200000</td>\n",
       "      <td>0</td>\n",
       "      <td>0</td>\n",
       "      <td>1</td>\n",
       "      <td>1</td>\n",
       "      <td>2.5</td>\n",
       "    </tr>\n",
       "    <tr>\n",
       "      <th>980</th>\n",
       "      <td>68</td>\n",
       "      <td>0.0598</td>\n",
       "      <td>109</td>\n",
       "      <td>0:LIVING</td>\n",
       "      <td>3.633333</td>\n",
       "      <td>1</td>\n",
       "      <td>0</td>\n",
       "      <td>1</td>\n",
       "      <td>1</td>\n",
       "      <td>95.0</td>\n",
       "    </tr>\n",
       "    <tr>\n",
       "      <th>981</th>\n",
       "      <td>77</td>\n",
       "      <td>0.0357</td>\n",
       "      <td>185</td>\n",
       "      <td>1:DECEASED</td>\n",
       "      <td>6.166667</td>\n",
       "      <td>0</td>\n",
       "      <td>0</td>\n",
       "      <td>1</td>\n",
       "      <td>1</td>\n",
       "      <td>30.0</td>\n",
       "    </tr>\n",
       "  </tbody>\n",
       "</table>\n",
       "<p>982 rows × 10 columns</p>\n",
       "</div>"
      ],
      "text/plain": [
       "     Diagnosis Age  Fraction Genome Altered  Mutation Count  \\\n",
       "0               70                   0.4565             189   \n",
       "1               67                   0.2221             288   \n",
       "2               79                   0.2362             296   \n",
       "3               68                   0.0854            1625   \n",
       "4               66                   0.0661             122   \n",
       "..             ...                      ...             ...   \n",
       "977             75                   0.2382             211   \n",
       "978             63                   0.5420             101   \n",
       "979             71                   0.4405             216   \n",
       "980             68                   0.0598             109   \n",
       "981             77                   0.0357             185   \n",
       "\n",
       "    Overall Survival Status  TMB (nonsynonymous)  Cancer Type Detailed  \\\n",
       "0                  0:LIVING             6.300000                     1   \n",
       "1                  0:LIVING             9.633333                     1   \n",
       "2                1:DECEASED             9.833333                     1   \n",
       "3                  0:LIVING            54.233333                     1   \n",
       "4                  0:LIVING             4.066667                     1   \n",
       "..                      ...                  ...                   ...   \n",
       "977              1:DECEASED             7.033333                     0   \n",
       "978              1:DECEASED             3.400000                     0   \n",
       "979              1:DECEASED             7.200000                     0   \n",
       "980                0:LIVING             3.633333                     1   \n",
       "981              1:DECEASED             6.166667                     0   \n",
       "\n",
       "     Prior Cancer Diagnosis Occurence  Smoking History  Sex  \\\n",
       "0                                   0                1    0   \n",
       "1                                   0                1    0   \n",
       "2                                   0                1    1   \n",
       "3                                   1                1    0   \n",
       "4                                   1                1    0   \n",
       "..                                ...              ...  ...   \n",
       "977                                 0                1    1   \n",
       "978                                 1                1    0   \n",
       "979                                 0                1    1   \n",
       "980                                 0                1    1   \n",
       "981                                 0                1    1   \n",
       "\n",
       "     Person Cigarette Smoking History Pack Year Value  \n",
       "0                                                38.0  \n",
       "1                                                52.0  \n",
       "2                                                47.0  \n",
       "3                                                62.0  \n",
       "4                                                20.0  \n",
       "..                                                ...  \n",
       "977                                               1.0  \n",
       "978                                               2.5  \n",
       "979                                               2.5  \n",
       "980                                              95.0  \n",
       "981                                              30.0  \n",
       "\n",
       "[982 rows x 10 columns]"
      ]
     },
     "execution_count": 2,
     "metadata": {},
     "output_type": "execute_result"
    }
   ],
   "source": [
    "# Dropping unneccesary columns\n",
    "clean_data_df = data_df.drop([\"Unnamed: 0.1\",\"Unnamed: 0\"],axis=1)\n",
    "clean_data_df"
   ]
  },
  {
   "cell_type": "code",
   "execution_count": 3,
   "metadata": {},
   "outputs": [
    {
     "name": "stderr",
     "output_type": "stream",
     "text": [
      "C:\\Users\\arwal\\AppData\\Local\\Temp\\ipykernel_448\\79643189.py:1: FutureWarning: Downcasting behavior in `replace` is deprecated and will be removed in a future version. To retain the old behavior, explicitly call `result.infer_objects(copy=False)`. To opt-in to the future behavior, set `pd.set_option('future.no_silent_downcasting', True)`\n",
      "  clean_data_df['Overall Survival Status'] = clean_data_df['Overall Survival Status'].replace(\n"
     ]
    }
   ],
   "source": [
    "clean_data_df['Overall Survival Status'] = clean_data_df['Overall Survival Status'].replace(\n",
    "    {'0:LIVING': 0,\n",
    "     '1:DECEASED': 1\n",
    "     })"
   ]
  },
  {
   "cell_type": "code",
   "execution_count": 4,
   "metadata": {},
   "outputs": [
    {
     "data": {
      "text/plain": [
       "Diagnosis Age                                         int64\n",
       "Fraction Genome Altered                             float64\n",
       "Mutation Count                                        int64\n",
       "Overall Survival Status                               int64\n",
       "TMB (nonsynonymous)                                 float64\n",
       "Cancer Type Detailed                                  int64\n",
       "Prior Cancer Diagnosis Occurence                      int64\n",
       "Smoking History                                       int64\n",
       "Sex                                                   int64\n",
       "Person Cigarette Smoking History Pack Year Value    float64\n",
       "dtype: object"
      ]
     },
     "execution_count": 4,
     "metadata": {},
     "output_type": "execute_result"
    }
   ],
   "source": [
    "# Checking data types\n",
    "clean_data_df.nunique()\n",
    "clean_data_df.dtypes"
   ]
  },
  {
   "cell_type": "code",
   "execution_count": 5,
   "metadata": {},
   "outputs": [],
   "source": [
    "# Step 2: Creating and separating labels (y) and features (X) from dummies DataFrame.\n",
    "X = clean_data_df.copy()\n",
    "X.drop(\"Overall Survival Status\",axis=1,inplace=True)\n",
    "y = clean_data_df[\"Overall Survival Status\"]\n",
    "\n",
    "# Splitting into training and testing data\n",
    "X_train, X_test, y_train, y_test = train_test_split(X,y,random_state=42)"
   ]
  },
  {
   "cell_type": "markdown",
   "metadata": {},
   "source": [
    "## Step 3: Scaling the data features (X & y) for the model."
   ]
  },
  {
   "cell_type": "code",
   "execution_count": 6,
   "metadata": {},
   "outputs": [],
   "source": [
    "scaler = StandardScaler()\n",
    "\n",
    "# Fitting StandardScaler\n",
    "X_scaler = scaler.fit(X_train)\n",
    "\n",
    "# Scaling the data\n",
    "X_train_scaled = X_scaler.transform(X_train)\n",
    "X_test_scaled = X_scaler.transform(X_test)"
   ]
  },
  {
   "cell_type": "code",
   "execution_count": 30,
   "metadata": {},
   "outputs": [],
   "source": [
    "# Create a method that creates a new Sequential model with hyperparameter options\n",
    "def create_model(hp):\n",
    "    nn_model = tf.keras.models.Sequential()\n",
    "\n",
    "    # Allow kerastuner to decide which activation function to use in hidden layers\n",
    "    activation = hp.Choice('activation',['relu','tanh','sigmoid'])\n",
    "\n",
    "    # Allow kerastuner to decide number of neurons in first layer\n",
    "    nn_model.add(tf.keras.layers.Dense(units=hp.Int('first_units',\n",
    "        min_value=1,\n",
    "        max_value=10,\n",
    "        step=2), activation=activation, input_dim=len(X_train_scaled[0])))\n",
    "\n",
    "    # Allow kerastuner to decide number of hidden layers and neurons in hidden layers\n",
    "    for i in range(hp.Int('num_layers', 1, 4)):\n",
    "        nn_model.add(tf.keras.layers.Dense(units=hp.Int(f'units_{i}',\n",
    "            min_value=1,\n",
    "            max_value=10,\n",
    "            step=2),\n",
    "            activation=activation))\n",
    "\n",
    "    nn_model.add(tf.keras.layers.Dense(units=1, activation=\"sigmoid\"))\n",
    "\n",
    "    # Compile the model\n",
    "    nn_model.compile(loss=\"binary_crossentropy\", optimizer='adam', metrics=[\"accuracy\"])\n",
    "\n",
    "    return nn_model"
   ]
  },
  {
   "cell_type": "code",
   "execution_count": 29,
   "metadata": {},
   "outputs": [],
   "source": [
    "# Import the kerastuner library\n",
    "import keras_tuner as kt\n",
    "# Define method to create tuner instance\n",
    "def run_tuner(epochs):\n",
    "\n",
    "    tuner = kt.Hyperband(\n",
    "        create_model,\n",
    "        objective=\"val_accuracy\",\n",
    "        max_epochs=30,\n",
    "        hyperband_iterations=2)\n",
    "    tuner.search(X_train_scaled,y_train,epochs=30,validation_data=(X_test_scaled,y_test))\n",
    "    return tuner"
   ]
  },
  {
   "cell_type": "code",
   "execution_count": 31,
   "metadata": {},
   "outputs": [
    {
     "name": "stdout",
     "output_type": "stream",
     "text": [
      "Trial 180 Complete [00h 00m 10s]\n",
      "val_accuracy: 0.7195122241973877\n",
      "\n",
      "Best val_accuracy So Far: 0.7317073345184326\n",
      "Total elapsed time: 00h 24m 12s\n"
     ]
    }
   ],
   "source": [
    "# Run the kerastuner search for best hyperparameters\n",
    "tuner1 = run_tuner(10)"
   ]
  },
  {
   "cell_type": "code",
   "execution_count": 32,
   "metadata": {},
   "outputs": [
    {
     "data": {
      "text/plain": [
       "{'activation': 'relu',\n",
       " 'first_units': 9,\n",
       " 'num_layers': 3,\n",
       " 'units_0': 5,\n",
       " 'units_1': 3,\n",
       " 'units_2': 9,\n",
       " 'units_3': 3,\n",
       " 'tuner/epochs': 30,\n",
       " 'tuner/initial_epoch': 0,\n",
       " 'tuner/bracket': 0,\n",
       " 'tuner/round': 0}"
      ]
     },
     "execution_count": 32,
     "metadata": {},
     "output_type": "execute_result"
    }
   ],
   "source": [
    "# Get best model hyperparameters\n",
    "best_hyper = tuner1.get_best_hyperparameters(1)[0]\n",
    "best_hyper.values"
   ]
  },
  {
   "cell_type": "code",
   "execution_count": 68,
   "metadata": {},
   "outputs": [
    {
     "name": "stderr",
     "output_type": "stream",
     "text": [
      "c:\\Users\\arwal\\anaconda3\\envs\\dev\\lib\\site-packages\\keras\\src\\saving\\saving_lib.py:713: UserWarning: Skipping variable loading for optimizer 'adam', because it has 2 variables whereas the saved optimizer has 22 variables. \n",
      "  saveable.load_own_variables(weights_store.get(inner_path))\n"
     ]
    },
    {
     "name": "stdout",
     "output_type": "stream",
     "text": [
      "8/8 - 0s - 41ms/step - accuracy: 0.7317 - loss: 0.6757\n",
      "Loss: 0.6756824254989624, Accuracy: 0.7317073345184326\n"
     ]
    }
   ],
   "source": [
    "best_model = tuner1.get_best_models(1)[0]\n",
    "model_loss, model_accuracy = best_model.evaluate(X_test_scaled,y_test,verbose=2)\n",
    "print(f\"Loss: {model_loss}, Accuracy: {model_accuracy}\")"
   ]
  },
  {
   "cell_type": "markdown",
   "metadata": {},
   "source": [
    "# Step 4: Compile and Train Model"
   ]
  },
  {
   "cell_type": "code",
   "execution_count": 67,
   "metadata": {},
   "outputs": [
    {
     "name": "stdout",
     "output_type": "stream",
     "text": [
      "Epoch 1/20\n",
      "\u001b[1m23/23\u001b[0m \u001b[32m━━━━━━━━━━━━━━━━━━━━\u001b[0m\u001b[37m\u001b[0m \u001b[1m2s\u001b[0m 10ms/step - accuracy: 0.4735 - loss: 0.7573 - val_accuracy: 0.6016 - val_loss: 0.6359\n",
      "Epoch 2/20\n",
      "\u001b[1m23/23\u001b[0m \u001b[32m━━━━━━━━━━━━━━━━━━━━\u001b[0m\u001b[37m\u001b[0m \u001b[1m0s\u001b[0m 2ms/step - accuracy: 0.5336 - loss: 0.7011 - val_accuracy: 0.6911 - val_loss: 0.6149\n",
      "Epoch 3/20\n",
      "\u001b[1m23/23\u001b[0m \u001b[32m━━━━━━━━━━━━━━━━━━━━\u001b[0m\u001b[37m\u001b[0m \u001b[1m0s\u001b[0m 2ms/step - accuracy: 0.6300 - loss: 0.6606 - val_accuracy: 0.7033 - val_loss: 0.6023\n",
      "Epoch 4/20\n",
      "\u001b[1m23/23\u001b[0m \u001b[32m━━━━━━━━━━━━━━━━━━━━\u001b[0m\u001b[37m\u001b[0m \u001b[1m0s\u001b[0m 2ms/step - accuracy: 0.6709 - loss: 0.6343 - val_accuracy: 0.7154 - val_loss: 0.5951\n",
      "Epoch 5/20\n",
      "\u001b[1m23/23\u001b[0m \u001b[32m━━━━━━━━━━━━━━━━━━━━\u001b[0m\u001b[37m\u001b[0m \u001b[1m0s\u001b[0m 2ms/step - accuracy: 0.7156 - loss: 0.6138 - val_accuracy: 0.7195 - val_loss: 0.5912\n",
      "Epoch 6/20\n",
      "\u001b[1m23/23\u001b[0m \u001b[32m━━━━━━━━━━━━━━━━━━━━\u001b[0m\u001b[37m\u001b[0m \u001b[1m0s\u001b[0m 2ms/step - accuracy: 0.6947 - loss: 0.6176 - val_accuracy: 0.7195 - val_loss: 0.5897\n",
      "Epoch 7/20\n",
      "\u001b[1m23/23\u001b[0m \u001b[32m━━━━━━━━━━━━━━━━━━━━\u001b[0m\u001b[37m\u001b[0m \u001b[1m0s\u001b[0m 2ms/step - accuracy: 0.7151 - loss: 0.6074 - val_accuracy: 0.7195 - val_loss: 0.5894\n",
      "Epoch 8/20\n",
      "\u001b[1m23/23\u001b[0m \u001b[32m━━━━━━━━━━━━━━━━━━━━\u001b[0m\u001b[37m\u001b[0m \u001b[1m0s\u001b[0m 2ms/step - accuracy: 0.7044 - loss: 0.6060 - val_accuracy: 0.7195 - val_loss: 0.5911\n",
      "Epoch 9/20\n",
      "\u001b[1m23/23\u001b[0m \u001b[32m━━━━━━━━━━━━━━━━━━━━\u001b[0m\u001b[37m\u001b[0m \u001b[1m0s\u001b[0m 2ms/step - accuracy: 0.7242 - loss: 0.5849 - val_accuracy: 0.7195 - val_loss: 0.5940\n",
      "Epoch 10/20\n",
      "\u001b[1m23/23\u001b[0m \u001b[32m━━━━━━━━━━━━━━━━━━━━\u001b[0m\u001b[37m\u001b[0m \u001b[1m0s\u001b[0m 2ms/step - accuracy: 0.7271 - loss: 0.5772 - val_accuracy: 0.7195 - val_loss: 0.5970\n",
      "Epoch 11/20\n",
      "\u001b[1m23/23\u001b[0m \u001b[32m━━━━━━━━━━━━━━━━━━━━\u001b[0m\u001b[37m\u001b[0m \u001b[1m0s\u001b[0m 2ms/step - accuracy: 0.7014 - loss: 0.5988 - val_accuracy: 0.7195 - val_loss: 0.5983\n",
      "Epoch 12/20\n",
      "\u001b[1m23/23\u001b[0m \u001b[32m━━━━━━━━━━━━━━━━━━━━\u001b[0m\u001b[37m\u001b[0m \u001b[1m0s\u001b[0m 2ms/step - accuracy: 0.7089 - loss: 0.5901 - val_accuracy: 0.7195 - val_loss: 0.5983\n",
      "Epoch 13/20\n",
      "\u001b[1m23/23\u001b[0m \u001b[32m━━━━━━━━━━━━━━━━━━━━\u001b[0m\u001b[37m\u001b[0m \u001b[1m0s\u001b[0m 2ms/step - accuracy: 0.7111 - loss: 0.5957 - val_accuracy: 0.7195 - val_loss: 0.6007\n",
      "Epoch 14/20\n",
      "\u001b[1m23/23\u001b[0m \u001b[32m━━━━━━━━━━━━━━━━━━━━\u001b[0m\u001b[37m\u001b[0m \u001b[1m0s\u001b[0m 2ms/step - accuracy: 0.7357 - loss: 0.5681 - val_accuracy: 0.7195 - val_loss: 0.6022\n",
      "Epoch 15/20\n",
      "\u001b[1m23/23\u001b[0m \u001b[32m━━━━━━━━━━━━━━━━━━━━\u001b[0m\u001b[37m\u001b[0m \u001b[1m0s\u001b[0m 2ms/step - accuracy: 0.7250 - loss: 0.5727 - val_accuracy: 0.7195 - val_loss: 0.6036\n",
      "Epoch 16/20\n",
      "\u001b[1m23/23\u001b[0m \u001b[32m━━━━━━━━━━━━━━━━━━━━\u001b[0m\u001b[37m\u001b[0m \u001b[1m0s\u001b[0m 2ms/step - accuracy: 0.7121 - loss: 0.5859 - val_accuracy: 0.7195 - val_loss: 0.6028\n",
      "Epoch 17/20\n",
      "\u001b[1m23/23\u001b[0m \u001b[32m━━━━━━━━━━━━━━━━━━━━\u001b[0m\u001b[37m\u001b[0m \u001b[1m0s\u001b[0m 2ms/step - accuracy: 0.7232 - loss: 0.5717 - val_accuracy: 0.7195 - val_loss: 0.6056\n",
      "Epoch 18/20\n",
      "\u001b[1m23/23\u001b[0m \u001b[32m━━━━━━━━━━━━━━━━━━━━\u001b[0m\u001b[37m\u001b[0m \u001b[1m0s\u001b[0m 2ms/step - accuracy: 0.7137 - loss: 0.5856 - val_accuracy: 0.7195 - val_loss: 0.6056\n",
      "Epoch 19/20\n",
      "\u001b[1m23/23\u001b[0m \u001b[32m━━━━━━━━━━━━━━━━━━━━\u001b[0m\u001b[37m\u001b[0m \u001b[1m0s\u001b[0m 2ms/step - accuracy: 0.7059 - loss: 0.5874 - val_accuracy: 0.7195 - val_loss: 0.6061\n",
      "Epoch 20/20\n",
      "\u001b[1m23/23\u001b[0m \u001b[32m━━━━━━━━━━━━━━━━━━━━\u001b[0m\u001b[37m\u001b[0m \u001b[1m0s\u001b[0m 2ms/step - accuracy: 0.7134 - loss: 0.5875 - val_accuracy: 0.7195 - val_loss: 0.6059\n"
     ]
    },
    {
     "data": {
      "text/plain": [
       "<keras.src.callbacks.history.History at 0x1e207b2eaa0>"
      ]
     },
     "execution_count": 67,
     "metadata": {},
     "output_type": "execute_result"
    }
   ],
   "source": [
    "# Create best model based on hyperparameters\n",
    "def create_best_model():\n",
    "    nn_model = tf.keras.models.Sequential()\n",
    "\n",
    "    # Use the best hyperparameters\n",
    "    activation = 'tanh'\n",
    "    first_units = 9\n",
    "\n",
    "    # First hidden layer\n",
    "    nn_model.add(tf.keras.layers.Dense(units=first_units, activation=activation, input_dim=len(X_train_scaled[0])))\n",
    "\n",
    "    # Adding the specified number of hidden layers with the given units\n",
    "    hidden_units = [5, 3, 9]  # Corresponds to units_0, units_1, units_2\n",
    "    for units in hidden_units:\n",
    "        nn_model.add(tf.keras.layers.Dense(units=units, activation=activation))\n",
    "\n",
    "    # Output layer\n",
    "    nn_model.add(tf.keras.layers.Dense(units=1, activation='sigmoid'))\n",
    "\n",
    "    # Compile the model\n",
    "    nn_model.compile(loss='binary_crossentropy', optimizer='adam', metrics=['accuracy'])\n",
    "\n",
    "    return nn_model\n",
    "\n",
    "# Create and train the model\n",
    "best_model = create_best_model()\n",
    "\n",
    "best_model.fit(X_train_scaled, y_train, epochs=20, validation_data=(X_test_scaled, y_test))"
   ]
  },
  {
   "cell_type": "code",
   "execution_count": 69,
   "metadata": {},
   "outputs": [
    {
     "name": "stdout",
     "output_type": "stream",
     "text": [
      "8/8 - 0s - 2ms/step - accuracy: 0.7317 - loss: 0.6757\n",
      "Loss: 0.6756824254989624, Accuracy: 0.7317073345184326\n"
     ]
    }
   ],
   "source": [
    "# Evaluate the model using the test data\n",
    "model_loss, model_accuracy = best_model.evaluate(X_test_scaled,y_test,verbose=2)\n",
    "print(f\"Loss: {model_loss}, Accuracy: {model_accuracy}\")"
   ]
  },
  {
   "cell_type": "code",
   "execution_count": 62,
   "metadata": {},
   "outputs": [
    {
     "name": "stderr",
     "output_type": "stream",
     "text": [
      "WARNING:absl:You are saving your model as an HDF5 file via `model.save()` or `keras.saving.save_model(model)`. This file format is considered legacy. We recommend using instead the native Keras format, e.g. `model.save('my_model.keras')` or `keras.saving.save_model(model, 'my_model.keras')`. \n"
     ]
    }
   ],
   "source": [
    "# Save a copy\n",
    "best_model.save('Images/best_model.h5')"
   ]
  }
 ],
 "metadata": {
  "kernelspec": {
   "display_name": "Python 3 (ipykernel)",
   "language": "python",
   "name": "python3"
  },
  "language_info": {
   "codemirror_mode": {
    "name": "ipython",
    "version": 3
   },
   "file_extension": ".py",
   "mimetype": "text/x-python",
   "name": "python",
   "nbconvert_exporter": "python",
   "pygments_lexer": "ipython3",
   "version": "3.11.7"
  }
 },
 "nbformat": 4,
 "nbformat_minor": 4
}
